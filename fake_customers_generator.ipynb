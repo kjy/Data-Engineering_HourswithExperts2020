{
 "cells": [
  {
   "cell_type": "code",
   "execution_count": 1,
   "metadata": {},
   "outputs": [],
   "source": [
    "from faker import Faker"
   ]
  },
  {
   "cell_type": "code",
   "execution_count": 5,
   "metadata": {},
   "outputs": [],
   "source": [
    "faker = Faker()\n",
    "list1 = []\n",
    "for _ in range(100):\n",
    "    list1.append(faker.name())"
   ]
  },
  {
   "cell_type": "code",
   "execution_count": 7,
   "metadata": {},
   "outputs": [],
   "source": [
    "list2 = []\n",
    "for _ in range(100):\n",
    "    address = faker.address()\n",
    "    new_address = address.replace(\"\\n\",\" \")\n",
    "    list2.append(new_address)"
   ]
  },
  {
   "cell_type": "code",
   "execution_count": 8,
   "metadata": {},
   "outputs": [],
   "source": [
    "list3 = []\n",
    "for _ in range(100):\n",
    "    list3.append(faker.email())"
   ]
  },
  {
   "cell_type": "code",
   "execution_count": 9,
   "metadata": {},
   "outputs": [],
   "source": [
    "import random\n",
    "\n",
    "list4=[]\n",
    "\n",
    "def randN(N):\n",
    "    min = pow(10, N-1)\n",
    "    max = pow(10, N) - 1\n",
    "    return random.randint(min, max)\n",
    "\n",
    "for _ in range(100):\n",
    "    num = randN(8)\n",
    "    list4.append(num)"
   ]
  },
  {
   "cell_type": "code",
   "execution_count": 10,
   "metadata": {},
   "outputs": [
    {
     "data": {
      "text/plain": [
       "100"
      ]
     },
     "execution_count": 10,
     "metadata": {},
     "output_type": "execute_result"
    }
   ],
   "source": [
    "len(list4)"
   ]
  },
  {
   "cell_type": "code",
   "execution_count": 11,
   "metadata": {},
   "outputs": [],
   "source": [
    "import pandas as pd"
   ]
  },
  {
   "cell_type": "code",
   "execution_count": 12,
   "metadata": {},
   "outputs": [],
   "source": [
    "dict1 = {\"customer_name\":list1, \"mailing_address\": list2, \"email\":list3, \"customer_id\":list4}"
   ]
  },
  {
   "cell_type": "code",
   "execution_count": 13,
   "metadata": {},
   "outputs": [
    {
     "data": {
      "text/html": [
       "<div>\n",
       "<style scoped>\n",
       "    .dataframe tbody tr th:only-of-type {\n",
       "        vertical-align: middle;\n",
       "    }\n",
       "\n",
       "    .dataframe tbody tr th {\n",
       "        vertical-align: top;\n",
       "    }\n",
       "\n",
       "    .dataframe thead th {\n",
       "        text-align: right;\n",
       "    }\n",
       "</style>\n",
       "<table border=\"1\" class=\"dataframe\">\n",
       "  <thead>\n",
       "    <tr style=\"text-align: right;\">\n",
       "      <th></th>\n",
       "      <th>customer_name</th>\n",
       "      <th>mailing_address</th>\n",
       "      <th>email</th>\n",
       "      <th>customer_id</th>\n",
       "    </tr>\n",
       "  </thead>\n",
       "  <tbody>\n",
       "    <tr>\n",
       "      <th>0</th>\n",
       "      <td>Rebecca Hobbs</td>\n",
       "      <td>046 George Divide Apt. 694 Port Jacob, MD 17171</td>\n",
       "      <td>jacobcallahan@hotmail.com</td>\n",
       "      <td>60933653</td>\n",
       "    </tr>\n",
       "    <tr>\n",
       "      <th>1</th>\n",
       "      <td>Amanda Hernandez</td>\n",
       "      <td>66112 Fox Oval Markfort, MN 15554</td>\n",
       "      <td>wandarhodes@hotmail.com</td>\n",
       "      <td>31762611</td>\n",
       "    </tr>\n",
       "    <tr>\n",
       "      <th>2</th>\n",
       "      <td>Jason Anderson</td>\n",
       "      <td>687 Patrick Shores Alyssaberg, MA 03960</td>\n",
       "      <td>daniel43@knight.net</td>\n",
       "      <td>72743199</td>\n",
       "    </tr>\n",
       "    <tr>\n",
       "      <th>3</th>\n",
       "      <td>David Martinez</td>\n",
       "      <td>3808 Anderson Cove South Matthew, GA 65371</td>\n",
       "      <td>tylerhill@gmail.com</td>\n",
       "      <td>68185259</td>\n",
       "    </tr>\n",
       "    <tr>\n",
       "      <th>4</th>\n",
       "      <td>Mrs. Terri Ward</td>\n",
       "      <td>7773 Chad Courts East Travis, NH 10778</td>\n",
       "      <td>frostvanessa@miller.com</td>\n",
       "      <td>87018786</td>\n",
       "    </tr>\n",
       "  </tbody>\n",
       "</table>\n",
       "</div>"
      ],
      "text/plain": [
       "      customer_name                                  mailing_address  \\\n",
       "0     Rebecca Hobbs  046 George Divide Apt. 694 Port Jacob, MD 17171   \n",
       "1  Amanda Hernandez                66112 Fox Oval Markfort, MN 15554   \n",
       "2    Jason Anderson          687 Patrick Shores Alyssaberg, MA 03960   \n",
       "3    David Martinez       3808 Anderson Cove South Matthew, GA 65371   \n",
       "4   Mrs. Terri Ward           7773 Chad Courts East Travis, NH 10778   \n",
       "\n",
       "                       email  customer_id  \n",
       "0  jacobcallahan@hotmail.com     60933653  \n",
       "1    wandarhodes@hotmail.com     31762611  \n",
       "2        daniel43@knight.net     72743199  \n",
       "3        tylerhill@gmail.com     68185259  \n",
       "4    frostvanessa@miller.com     87018786  "
      ]
     },
     "execution_count": 13,
     "metadata": {},
     "output_type": "execute_result"
    }
   ],
   "source": [
    "df1 = pd.DataFrame(dict1)\n",
    "df1.head()"
   ]
  },
  {
   "cell_type": "code",
   "execution_count": 14,
   "metadata": {},
   "outputs": [],
   "source": [
    "df1.to_csv(\"customers.csv\")"
   ]
  },
  {
   "cell_type": "code",
   "execution_count": 15,
   "metadata": {},
   "outputs": [
    {
     "data": {
      "text/plain": [
       "pandas.core.series.Series"
      ]
     },
     "execution_count": 15,
     "metadata": {},
     "output_type": "execute_result"
    }
   ],
   "source": [
    "type(df1['customer_name'])"
   ]
  },
  {
   "cell_type": "code",
   "execution_count": 16,
   "metadata": {},
   "outputs": [
    {
     "name": "stdout",
     "output_type": "stream",
     "text": [
      "<class 'pandas.core.frame.DataFrame'>\n",
      "RangeIndex: 100 entries, 0 to 99\n",
      "Data columns (total 4 columns):\n",
      "customer_name      100 non-null object\n",
      "mailing_address    100 non-null object\n",
      "email              100 non-null object\n",
      "customer_id        100 non-null int64\n",
      "dtypes: int64(1), object(3)\n",
      "memory usage: 3.2+ KB\n"
     ]
    }
   ],
   "source": [
    "df1.info()\n"
   ]
  },
  {
   "cell_type": "code",
   "execution_count": 17,
   "metadata": {},
   "outputs": [],
   "source": [
    "# pip install fastparquet\n",
    "# Successfully installed fastparquet-0.3.3 thrift-0.13.0\n",
    "df1.to_parquet('customers.parquet', engine='fastparquet', compression='GZIP')"
   ]
  },
  {
   "cell_type": "code",
   "execution_count": null,
   "metadata": {},
   "outputs": [],
   "source": []
  }
 ],
 "metadata": {
  "kernelspec": {
   "display_name": "Python 3",
   "language": "python",
   "name": "python3"
  },
  "language_info": {
   "codemirror_mode": {
    "name": "ipython",
    "version": 3
   },
   "file_extension": ".py",
   "mimetype": "text/x-python",
   "name": "python",
   "nbconvert_exporter": "python",
   "pygments_lexer": "ipython3",
   "version": "3.7.6"
  }
 },
 "nbformat": 4,
 "nbformat_minor": 4
}
